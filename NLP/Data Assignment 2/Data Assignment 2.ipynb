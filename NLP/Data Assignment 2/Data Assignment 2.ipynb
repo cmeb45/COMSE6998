{
 "cells": [
  {
   "cell_type": "code",
   "execution_count": 51,
   "metadata": {
    "collapsed": false
   },
   "outputs": [
    {
     "name": "stdout",
     "output_type": "stream",
     "text": [
      "       text\n",
      "class      \n",
      "ag\\n    179\n",
      "dg\\n    172\n",
      "fr\\n    115\n",
      "hp\\n    536\n",
      "ne\\n   1400\n",
      "sd\\n    173\n",
      "sp\\n    115\n"
     ]
    },
    {
     "data": {
      "text/plain": [
       "<matplotlib.axes._subplots.AxesSubplot at 0x11e658f10>"
      ]
     },
     "execution_count": 51,
     "metadata": {},
     "output_type": "execute_result"
    },
    {
     "data": {
      "image/png": "[encoded data removed]",
      "text/plain": [
       "<matplotlib.figure.Figure at 0x11e8e2810>"
      ]
     },
     "metadata": {},
     "output_type": "display_data"
    }
   ],
   "source": [
    "import pandas as pd\n",
    "%matplotlib inline\n",
    "lines = []\n",
    "with open('emotionStudy') as f:\n",
    "    for line in f:\n",
    "        lines.append(line)\n",
    "\n",
    "dataset = []\n",
    "for line in lines:\n",
    "    split = line.split('\\',')\n",
    "    tuples = [split[0],split[1]]\n",
    "    dataset.append(tuples)\n",
    "    \n",
    "df = pd.DataFrame(data=dataset,columns=['text','class'])\n",
    "df_group = df.groupby('class').count()\n",
    "print df_group\n",
    "df_group.plot(kind='bar')"
   ]
  },
  {
   "cell_type": "markdown",
   "metadata": {},
   "source": [
    "###1\n",
    "\n",
    "The number of neutral records in the dataset is very high, which means using an automated model to classify the data might lead us to a very high of neutral classificaitons. On the other hand if we combine all the other class aganist neutral and perform a binary classification our model might produce higher accuracy. "
   ]
  },
  {
   "cell_type": "markdown",
   "metadata": {},
   "source": [
    "###2\n",
    "\n",
    "Lexicons presented in class such as Harvard GI database, MaxDiff sentiment Lexicon can help in classifing this dataset, the Harvard GI database might be more useful in this situation because it has multiple classes of sentiment might MaxDiff has only postive and negative with an intesity score. So bottom line I would go with Harvard GI database if we want to go with all classes and MaxDiff if we decide to do a binary classification. "
   ]
  },
  {
   "cell_type": "markdown",
   "metadata": {},
   "source": [
    "###3\n",
    "\n",
    "The persence or abscene of certain emoticons is a useful feature in this classification, since they are used to express emotions. The presence of one in a text increases the probability that the sentence is expressing an emotion. Of course, a certain emoticon might express multiple emotions, so if we change this problem into a binary classification problem then the emoticon feature will produce higher accuracy for the model \n"
   ]
  },
  {
   "cell_type": "code",
   "execution_count": null,
   "metadata": {
    "collapsed": true
   },
   "outputs": [],
   "source": []
  }
 ],
 "metadata": {
  "kernelspec": {
   "display_name": "Python 2",
   "language": "python",
   "name": "python2"
  },
  "language_info": {
   "codemirror_mode": {
    "name": "ipython",
    "version": 2
   },
   "file_extension": ".py",
   "mimetype": "text/x-python",
   "name": "python",
   "nbconvert_exporter": "python",
   "pygments_lexer": "ipython2",
   "version": "2.7.12"
  }
 },
 "nbformat": 4,
 "nbformat_minor": 0
}
