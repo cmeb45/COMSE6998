{
 "cells": [
  {
   "cell_type": "markdown",
   "metadata": {},
   "source": [
    "##Labib Fawaz\n",
    "##lf2494\n",
    "\n",
    "\n",
    "###Problem 1\n",
    "\n",
    "Our hypothesis is that high ratings are more likely to include postive adjectives while low ratings would produce negative ones. We will consider rating 7 and above as positive and ratings below 7 as negative. The graphs below show that Negative adjectives are higher until rating 5 in Adjective 1 and until 6 in Adjective 2."
   ]
  },
  {
   "cell_type": "code",
   "execution_count": 43,
   "metadata": {
    "collapsed": false
   },
   "outputs": [
    {
     "data": {
      "text/plain": [
       "<matplotlib.axes._subplots.AxesSubplot at 0x11f72a550>"
      ]
     },
     "execution_count": 43,
     "metadata": {},
     "output_type": "execute_result"
    },
    {
     "data": {
      "image/png": "[encoded data removed]",
      "text/plain": [
       "<matplotlib.figure.Figure at 0x116055dd0>"
      ]
     },
     "metadata": {},
     "output_type": "display_data"
    }
   ],
   "source": [
    "import pandas as pd\n",
    "import matplotlib.pyplot as plt\n",
    "%matplotlib inline\n",
    "\n",
    "imdb = pd.read_csv('imdb-adjcoord.csv')\n",
    "fig, axs = plt.subplots(1,2)\n",
    "imdb.groupby(['Rating','Adj1Pol']).size().unstack().plot(kind='bar',stacked=True, ax=axs[0],figsize=(15,5))\n",
    "imdb.groupby(['Rating','Adj2Pol']).size().unstack().plot(kind='bar',stacked=True,ax=axs[1],figsize=(15,5))"
   ]
  },
  {
   "cell_type": "markdown",
   "metadata": {},
   "source": [
    "###Problem 2\n",
    "\n",
    "- Feature one: (punctuation) Using an exclamation point tends to be more used in postive texts while quotations are more used in negative ones.\n",
    "\n",
    "- Feature two: Lenght of the text is shorter in in the postive text than in the negative texts\n",
    "\n",
    "- Feature three: Using an Emoji in the text seems to indicate that the text is more likely to be positive than negative"
   ]
  },
  {
   "cell_type": "code",
   "execution_count": null,
   "metadata": {
    "collapsed": true
   },
   "outputs": [],
   "source": []
  }
 ],
 "metadata": {
  "kernelspec": {
   "display_name": "Python 2",
   "language": "python",
   "name": "python2"
  },
  "language_info": {
   "codemirror_mode": {
    "name": "ipython",
    "version": 2
   },
   "file_extension": ".py",
   "mimetype": "text/x-python",
   "name": "python",
   "nbconvert_exporter": "python",
   "pygments_lexer": "ipython2",
   "version": "2.7.11"
  }
 },
 "nbformat": 4,
 "nbformat_minor": 0
}
