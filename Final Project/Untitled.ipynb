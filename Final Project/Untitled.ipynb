{
 "cells": [
  {
   "cell_type": "code",
   "execution_count": 6,
   "metadata": {
    "collapsed": false
   },
   "outputs": [],
   "source": [
    "from gensim.models import Word2Vec\n",
    "import pandas as pd\n",
    "import numpy as np"
   ]
  },
  {
   "cell_type": "code",
   "execution_count": 15,
   "metadata": {
    "collapsed": false
   },
   "outputs": [
    {
     "name": "stdout",
     "output_type": "stream",
     "text": [
      "0       Risk of the high voltage wiring getting wet is...\n",
      "1       No more than having a bottle of water next to ...\n",
      "2                              Oh to be stupid and smug .\n",
      "3       But the power regulator in the phone is failin...\n",
      "4       So the batteries would be 100 fine if samsung ...\n",
      "5               Dont charge it on your bed or any cloth .\n",
      "6                       Dont charge it in a hot kitchen .\n",
      "7       Dont charge it anywhere that can cause it to r...\n",
      "8       Id be more afraid if it went off in my pocket ...\n",
      "9       You would be lucky to feel a tingle before if ...\n",
      "10      And as soon as over current is detected the ch...\n",
      "11                Im from uk and we only have blueblack .\n",
      "12      But if you wan na be a real lazy ass like me j...\n",
      "13      Are you suggesting that removing the headphone...\n",
      "14                                    Note 7 is da bomb .\n",
      "15                                         Boom.Not you .\n",
      "16                                My note 7 LOL OMG WTF .\n",
      "17      Lucky that money runs like water in your home ...\n",
      "18                              They lost so much money .\n",
      "19      Good news but quite an obvious outcome I know ...\n",
      "20                        best smartphone on the market .\n",
      "21                      86 of users mentally challenged .\n",
      "22      Plus Samsung is going to be extra desperate wi...\n",
      "23      Get your S8 and it will come with a Gear VR a ...\n",
      "24      Love my S7 and I am super stoked about the Not...\n",
      "25      Can you imagine the pr nightmare if the 8 blow...\n",
      "26      I dont even know what the S8 will be like but ...\n",
      "27                       On Reddit those are big no nos .\n",
      "28            Im only using this LG V20 till I can JUMP .\n",
      "29      Most people loved the curved screen on the Not...\n",
      "                              ...                        \n",
      "2828    All phones that use lithium ion batteries have...\n",
      "2829    The number of phones with issues VS. The numbe...\n",
      "2830    The whole thing has been a night mare and thos...\n",
      "2831    Im with you Ill hold onto this for a long as I...\n",
      "2832    The fear of fire and no reward deters my stubb...\n",
      "2833    Went to the Edge not near the N7 but not a bad...\n",
      "2834                It just doesnt make me as happy ... .\n",
      "2835    You obviously dont know how big of a company s...\n",
      "2836    Its not just 3 million dollars ... Because not...\n",
      "2837                                       Poor Samsung .\n",
      "2838             There are a few things wrong with this .\n",
      "2839    Firstly Im sure they dont make absolutely ever...\n",
      "2840    After that you have to consider the phones act...\n",
      "2841    A story this damning should spell the end of t...\n",
      "2842    This is a government and private corporation c...\n",
      "2843    To fuel our desire to get devices to lock us i...\n",
      "2844    What a fucking joke ... I think its really int...\n",
      "2845    On this sub a sub dedicated to Samsung knowled...\n",
      "2846    On world news this story exploded with over 6....\n",
      "2847    Is there just a lot of nepotism in this sub or...\n",
      "2848                                      I dont get it .\n",
      "2849    I think you might want to rework you statement...\n",
      "2850    It was probably OPs mothers vaginal fluids tha...\n",
      "2851    Im in Canada and was hoping to upgrade from Ne...\n",
      "2852    Its my main reason for buying a Samsung right ...\n",
      "2853           Everything has touch wiz and always will .\n",
      "2854    Samsung wants the more slickunified experience...\n",
      "2855    Weve seen some companies have put mammoth batt...\n",
      "2856    32GB should have been standard many years ago ...\n",
      "2857    8GB and 16GB phones are still common in fact e...\n",
      "Name: sentence, dtype: object\n"
     ]
    }
   ],
   "source": [
    "#change input file to test this\n",
    "inputfile = \"/Users/laurenmccarthy/Documents/Columbia/Fall2016/NLP/FINAL_PROJECT/COMSE6998/Final Project/outputfiles/clean_output.csv\"\n",
    "df = pd.read_csv(inputfile)\n",
    "sentences = df[df.columns[1]]\n",
    "print sentences"
   ]
  },
  {
   "cell_type": "code",
   "execution_count": null,
   "metadata": {
    "collapsed": true
   },
   "outputs": [],
   "source": [
    "def main(sentences):\n",
    "    model = Word2Vec(size=50, window=5, min_count=1)\n",
    "    model.build_vocab(sentences)\n",
    "    \n",
    "    alpha, min_alpha, passes = (0.025, 0.001, 20)\n",
    "    alpha_delta = (alpha - min_alpha) / passes\n",
    "\n",
    "    for epoch in range(passes):\n",
    "    model.alpha, model.min_alpha = alpha, alpha\n",
    "    model.train(sentences)\n",
    "\n",
    "    print ('completed pass %i at alpha %f' % (epoch + 1, alpha))\n",
    "    alpha -= alpha_delta\n",
    "\n",
    "    np.random.shuffle(sentences)\n",
    "    model.save('gensim_model.txt')\n",
    "    return model"
   ]
  },
  {
   "cell_type": "code",
   "execution_count": 17,
   "metadata": {
    "collapsed": false
   },
   "outputs": [],
   "source": [
    "#model = Word2Vec(size=50, window=5, min_count=1)\n",
    "#model.build_vocab(sentences)"
   ]
  },
  {
   "cell_type": "code",
   "execution_count": 18,
   "metadata": {
    "collapsed": true
   },
   "outputs": [],
   "source": [
    "#def parse_sentence(line):\n",
    "#    return line.split('|')[0].split()"
   ]
  },
  {
   "cell_type": "code",
   "execution_count": null,
   "metadata": {
    "collapsed": true
   },
   "outputs": [],
   "source": [
    "#sentences = [parse_sentence(line) for line in open(inputfile)]"
   ]
  },
  {
   "cell_type": "code",
   "execution_count": null,
   "metadata": {
    "collapsed": false
   },
   "outputs": [
    {
     "name": "stdout",
     "output_type": "stream",
     "text": [
      "completed pass 1 at alpha 0.025000\n"
     ]
    },
    {
     "name": "stderr",
     "output_type": "stream",
     "text": [
      "/Users/laurenmccarthy/anaconda2/lib/python2.7/site-packages/ipykernel/__main__.py:17: SettingWithCopyWarning: \n",
      "A value is trying to be set on a copy of a slice from a DataFrame\n",
      "\n",
      "See the caveats in the documentation: http://pandas.pydata.org/pandas-docs/stable/indexing.html#indexing-view-versus-copy\n"
     ]
    },
    {
     "name": "stdout",
     "output_type": "stream",
     "text": [
      "completed pass 2 at alpha 0.023800\n",
      "completed pass 3 at alpha 0.022600\n"
     ]
    }
   ],
   "source": [
    "model = main(sentences)\n",
    "\n",
    "##check = model.most_similar(\"documentary\")\n",
    "#print check"
   ]
  },
  {
   "cell_type": "code",
   "execution_count": null,
   "metadata": {
    "collapsed": true
   },
   "outputs": [],
   "source": [
    "check = model.most_similar(\"phone\")\n",
    "print check"
   ]
  },
  {
   "cell_type": "code",
   "execution_count": null,
   "metadata": {
    "collapsed": true
   },
   "outputs": [],
   "source": [
    "check"
   ]
  },
  {
   "cell_type": "code",
   "execution_count": null,
   "metadata": {
    "collapsed": true
   },
   "outputs": [],
   "source": []
  }
 ],
 "metadata": {
  "anaconda-cloud": {},
  "kernelspec": {
   "display_name": "Python [Root]",
   "language": "python",
   "name": "Python [Root]"
  },
  "language_info": {
   "codemirror_mode": {
    "name": "ipython",
    "version": 2
   },
   "file_extension": ".py",
   "mimetype": "text/x-python",
   "name": "python",
   "nbconvert_exporter": "python",
   "pygments_lexer": "ipython2",
   "version": "2.7.12"
  }
 },
 "nbformat": 4,
 "nbformat_minor": 0
}
