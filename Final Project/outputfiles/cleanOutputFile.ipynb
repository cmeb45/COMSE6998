{
 "cells": [
  {
   "cell_type": "code",
   "execution_count": 44,
   "metadata": {
    "collapsed": false
   },
   "outputs": [],
   "source": [
    "import pandas as pd\n",
    "\n",
    "raw_output = pd.read_csv('output')\n",
    "output = raw_output[['sentence','sentiment']]\n",
    "clean_output = output[(output['sentiment'] != 'Neutral') & (output['sentiment'] != 'sentiment')  ]#.groupby(['sentiment']).size()\n",
    "clean_output['sentiment'].replace(to_replace='Verynegative',value='Negative',inplace=True)\n",
    "clean_output['sentiment'].replace(to_replace='Verypositive',value='Positive',inplace=True)\n",
    "clean_output.groupby(['sentiment']).size()\n",
    "clean_output.to_csv('clean_output.csv')"
   ]
  },
  {
   "cell_type": "code",
   "execution_count": null,
   "metadata": {
    "collapsed": true
   },
   "outputs": [],
   "source": []
  },
  {
   "cell_type": "code",
   "execution_count": null,
   "metadata": {
    "collapsed": true
   },
   "outputs": [],
   "source": []
  },
  {
   "cell_type": "code",
   "execution_count": null,
   "metadata": {
    "collapsed": true
   },
   "outputs": [],
   "source": []
  }
 ],
 "metadata": {
  "anaconda-cloud": {},
  "kernelspec": {
   "display_name": "Python [conda root]",
   "language": "python",
   "name": "conda-root-py"
  },
  "language_info": {
   "codemirror_mode": {
    "name": "ipython",
    "version": 2
   },
   "file_extension": ".py",
   "mimetype": "text/x-python",
   "name": "python",
   "nbconvert_exporter": "python",
   "pygments_lexer": "ipython2",
   "version": "2.7.12"
  }
 },
 "nbformat": 4,
 "nbformat_minor": 2
}
