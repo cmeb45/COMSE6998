{
 "cells": [
  {
   "cell_type": "code",
   "execution_count": null,
   "metadata": {
    "collapsed": true
   },
   "outputs": [],
   "source": []
  },
  {
   "cell_type": "code",
   "execution_count": 1,
   "metadata": {
    "collapsed": false
   },
   "outputs": [],
   "source": [
    "path = './data/Samsungtweets'\n",
    "\n",
    "import pandas as pd\n",
    "import numpy as np\n",
    "import csv\n",
    "%matplotlib inline\n",
    "\n",
    "lines = []\n",
    "with open(path) as f:\n",
    "    for line in f:\n",
    "        lines.append(line)\n",
    "        \n",
    "Files = lines[0].translate(None,'ArrayBuffer').split(')(')#.split('), (')\n",
    "tweets = []\n",
    "dataset = []\n",
    "for File in Files:\n",
    "    fileSplit = File.split('), (')\n",
    "    for split in fileSplit:\n",
    "        tweets.append(split)\n",
    "\n",
    "#for tweet in tweets:\n",
    "\n",
    "\n",
    "for tweet in tweets:\n",
    "    \n",
    "    tweetSplit = tweet.split(',')\n",
    "    tail = len(tweetSplit) - 1  \n",
    "    sentiment = tweetSplit[tail]\n",
    "    tweetSplit.pop(tail)\n",
    "    cleanTweet = ''.join(tweetSplit)\n",
    "    tuples = [cleanTweet,sentiment]\n",
    "    dataset.append(tuples)\n",
    "\n",
    "myfile = open('samsungAnotatedTweets.csv', 'wb')\n",
    "wr = csv.writer(myfile, quoting=csv.QUOTE_ALL)\n",
    "wr.writerow(dataset)\n"
   ]
  },
  {
   "cell_type": "code",
   "execution_count": null,
   "metadata": {
    "collapsed": true
   },
   "outputs": [],
   "source": []
  }
 ],
 "metadata": {
  "kernelspec": {
   "display_name": "Python 2",
   "language": "python",
   "name": "python2"
  },
  "language_info": {
   "codemirror_mode": {
    "name": "ipython",
    "version": 2
   },
   "file_extension": ".py",
   "mimetype": "text/x-python",
   "name": "python",
   "nbconvert_exporter": "python",
   "pygments_lexer": "ipython2",
   "version": "2.7.12"
  }
 },
 "nbformat": 4,
 "nbformat_minor": 0
}
