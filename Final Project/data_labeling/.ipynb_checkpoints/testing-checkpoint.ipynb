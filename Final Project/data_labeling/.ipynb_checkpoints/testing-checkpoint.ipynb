{
 "cells": [
  {
   "cell_type": "code",
   "execution_count": 39,
   "metadata": {
    "collapsed": false
   },
   "outputs": [],
   "source": [
    "from pycorenlp import StanfordCoreNLP\n",
    "import pandas as pd\n",
    "import re\n",
    "from clean_data_6 import *"
   ]
  },
  {
   "cell_type": "code",
   "execution_count": 40,
   "metadata": {
    "collapsed": true
   },
   "outputs": [],
   "source": [
    "text = pd.read_csv('/Users/laurenmccarthy/Documents/Columbia/Fall2016/NLP/FINAL_PROJECT/COMSE6998/Final Project/reddit_data/samsung_top_posts_cleansed.csv')"
   ]
  },
  {
   "cell_type": "code",
   "execution_count": 41,
   "metadata": {
    "collapsed": false
   },
   "outputs": [],
   "source": [
    "#data clean\n",
    "text = text.drop(text.index[921]).reset_index(drop=True)\n",
    "text = text.drop(text.index[1146]).reset_index(drop=True)\n",
    "text = text.drop(text.index[1242]).reset_index(drop=True)\n",
    "text = text.drop(text.index[2496]).reset_index(drop=True)\n",
    "text = text.drop(text.index[2610]).reset_index(drop=True)\n",
    "text = text.drop(text.index[2642]).reset_index(drop=True)\n",
    "text = text.drop(text.index[2904]).reset_index(drop=True)"
   ]
  },
  {
   "cell_type": "code",
   "execution_count": 5,
   "metadata": {
    "collapsed": false
   },
   "outputs": [
    {
     "name": "stdout",
     "output_type": "stream",
     "text": [
      "\n",
      "\n",
      "The specific rebuttal for Corning:  \n",
      "\n",
      "&gt; all glass falls between a Mohs hardness of 5-6, something which Pasansky told me “has been validated several times during the development process here at Corning.” So a Mohs pick of 3 cannot scratch glass with a hardness of 5 or 6. So far so busted.\n",
      "\n",
      "Essentially, any glass is at 5-6, and the Mohs pick was a 3. Corning is using this as a basis to state that what we see in the video is material transfer of the pick onto the glass. The original video, he does attempt to clean it without success. \n",
      "\n",
      "I think that unless someone else does a similar test, or JerryRigsEverything follows up with a significant cleaning effort, we won't really know. I suspect that the new Gorilla Glass traded scratching for material transfer. If it's impossible or nearly impossible to get this transferred material off of the glass (ever try to clean sap off a painted car?), then it will amount to the same thing in the public's mind.\n",
      "\n",
      "But, if someone can show a way to clean these \"transfers\", than opinion shifts back in favor of Corning.\n"
     ]
    }
   ],
   "source": [
    "column = text['comment']\n",
    "column = clean_data(column)\n",
    "print column[2610]"
   ]
  },
  {
   "cell_type": "code",
   "execution_count": 41,
   "metadata": {
    "collapsed": false
   },
   "outputs": [
    {
     "name": "stdout",
     "output_type": "stream",
     "text": [
      "Aesthetic\n"
     ]
    }
   ],
   "source": [
    "text_str = 'A e s t h e t i c'\n",
    "if text_str == text_str:\n",
    "    text_str = text_str.replace(\" \", \"\")\n",
    "print text_str"
   ]
  },
  {
   "cell_type": "code",
   "execution_count": 42,
   "metadata": {
    "collapsed": false
   },
   "outputs": [
    {
     "name": "stdout",
     "output_type": "stream",
     "text": [
      "0\n"
     ]
    },
    {
     "ename": "TypeError",
     "evalue": "string indices must be integers",
     "output_type": "error",
     "traceback": [
      "\u001b[0;31m---------------------------------------------------------------------------\u001b[0m",
      "\u001b[0;31mTypeError\u001b[0m                                 Traceback (most recent call last)",
      "\u001b[0;32m<ipython-input-42-060009285230>\u001b[0m in \u001b[0;36m<module>\u001b[0;34m()\u001b[0m\n\u001b[1;32m     20\u001b[0m                            \u001b[0;34m'outputFormat'\u001b[0m\u001b[0;34m:\u001b[0m \u001b[0;34m'json'\u001b[0m\u001b[0;34m\u001b[0m\u001b[0m\n\u001b[1;32m     21\u001b[0m                        })\n\u001b[0;32m---> 22\u001b[0;31m     \u001b[0;32mfor\u001b[0m \u001b[0mi\u001b[0m\u001b[0;34m,\u001b[0m\u001b[0ms\u001b[0m \u001b[0;32min\u001b[0m \u001b[0menumerate\u001b[0m\u001b[0;34m(\u001b[0m\u001b[0mres\u001b[0m\u001b[0;34m[\u001b[0m\u001b[0;34m\"sentences\"\u001b[0m\u001b[0;34m]\u001b[0m\u001b[0;34m)\u001b[0m\u001b[0;34m:\u001b[0m\u001b[0;34m\u001b[0m\u001b[0m\n\u001b[0m\u001b[1;32m     23\u001b[0m         \u001b[0;31m#print i#, s\u001b[0m\u001b[0;34m\u001b[0m\u001b[0;34m\u001b[0m\u001b[0m\n\u001b[1;32m     24\u001b[0m         \u001b[0mindex_val\u001b[0m\u001b[0;34m.\u001b[0m\u001b[0mappend\u001b[0m\u001b[0;34m(\u001b[0m\u001b[0mdate_index\u001b[0m\u001b[0;34m)\u001b[0m\u001b[0;34m\u001b[0m\u001b[0m\n",
      "\u001b[0;31mTypeError\u001b[0m: string indices must be integers"
     ]
    }
   ],
   "source": [
    "nlp = StanfordCoreNLP('http://localhost:9000')\n",
    "output = pd.DataFrame()\n",
    "N, d = text.shape\n",
    "index_val = []\n",
    "sentence = []\n",
    "sentimentValue = []\n",
    "sentiment = []\n",
    "column = text['comment']\n",
    "\n",
    "for date_index in xrange(0, 3200):\n",
    "    if date_index % 100 == 0:\n",
    "        print date_index\n",
    "    comment = column[date_index]\n",
    "    comment = clean_data(comment)\n",
    "    #comment_clean = re.sub(\"[^a-zA-Z0-9]\", \" \", comment)\n",
    "    #comment_clean = re.sub(\" +\", \" \", comment_clean)\n",
    "    res = nlp.annotate(comment_clean,\n",
    "                       properties={\n",
    "                           'annotators': 'sentiment',\n",
    "                           'outputFormat': 'json'\n",
    "                       })\n",
    "    for i,s in enumerate(res[\"sentences\"]):\n",
    "        #print i#, s\n",
    "        index_val.append(date_index)\n",
    "        current_sentence = \" \".join([t[\"word\"] for t in s[\"tokens\"]])\n",
    "        sentence.append(current_sentence)\n",
    "        #print s[\"sentimentValue\"], s[\"sentiment\"], current_sentence\n",
    "        #output\n",
    "        sentimentValue.append(s[\"sentimentValue\"])\n",
    "        sentiment.append(s[\"sentiment\"])\n",
    "\n",
    "output['index'] = index_val\n",
    "output['sentence'] = sentence\n",
    "output['sentimentValue'] = sentimentValue\n",
    "output['sentiment'] = sentiment\n",
    "save_path = 'output'+str(i)\n",
    "output.to_csv('/Users/laurenmccarthy/Desktop/'+save_path)"
   ]
  },
  {
   "cell_type": "code",
   "execution_count": 33,
   "metadata": {
    "collapsed": false,
    "scrolled": true
   },
   "outputs": [
    {
     "name": "stdout",
     "output_type": "stream",
     "text": [
      "index 33 sentence * People don't care. GM had ignition issues people died from, I remember Jeeps and Teslas catching fire, none of these come to mind when the average carbuyer looks at cars now. If you put the pen from the last note in wrong it broke - no one remembers that.\n",
      "\n",
      "* I think the issue is seen as less serious than it was. It was an issue that only occurred in certain circumstances and you had a lot of people going \"mine's fine can I keep it?\" with a response \"no be safe.\" I think people start to wonder if the issue was overblown - Samsung's quick response looked more \"better safe than sorry\" than \"oh shit,\" or at least enough. Also when you hear some phones are ok you start to wonder if the explosions came from unusual circumstance. \n",
      "\n",
      "* This was restricted to one device. Had S7s started smoking the company would be fucked. But one device - with a history of solid Galaxy S/Note phones, sitting on the rack next to the S7 which was fine, this looked a contained problem. I don't think anyone expects an exploding Note 8.\n",
      "\n",
      "* Samsung has a sizable customer base built on phones like Grand Prime, Galaxy On5 and J3. Prepaid phones, bought because \"Samsung\" who makes flagship phones is better than \"Alcatel\" who no one has heard of. These users don't care. Note 7 is some super-expensive slim fancy superphone and has nothing to do with what I bought off the Walmart rack. I have an On5, and while this Note 7 business might give me pause buying an S8 or Note 8, if I'm still looking at prepaids I'm still gonna go Samsung.\n",
      "CoreNLP request timed out. Your document may be too long.\n"
     ]
    }
   ],
   "source": [
    "#print date_index\n",
    "print 'index', date_index, 'sentence', column[date_index]\n",
    "print res"
   ]
  },
  {
   "cell_type": "code",
   "execution_count": 34,
   "metadata": {
    "collapsed": false
   },
   "outputs": [
    {
     "name": "stdout",
     "output_type": "stream",
     "text": [
      "Empty DataFrame\n",
      "Columns: []\n",
      "Index: []\n"
     ]
    }
   ],
   "source": [
    "print output"
   ]
  },
  {
   "cell_type": "code",
   "execution_count": null,
   "metadata": {
    "collapsed": true
   },
   "outputs": [],
   "source": []
  }
 ],
 "metadata": {
  "anaconda-cloud": {},
  "kernelspec": {
   "display_name": "Python [Root]",
   "language": "python",
   "name": "Python [Root]"
  },
  "language_info": {
   "codemirror_mode": {
    "name": "ipython",
    "version": 2
   },
   "file_extension": ".py",
   "mimetype": "text/x-python",
   "name": "python",
   "nbconvert_exporter": "python",
   "pygments_lexer": "ipython2",
   "version": "2.7.12"
  }
 },
 "nbformat": 4,
 "nbformat_minor": 0
}
