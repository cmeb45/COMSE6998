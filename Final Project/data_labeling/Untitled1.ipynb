{
 "cells": [
  {
   "cell_type": "code",
   "execution_count": null,
   "metadata": {
    "collapsed": false
   },
   "outputs": [
    {
     "name": "stdout",
     "output_type": "stream",
     "text": [
      "2000\n"
     ]
    }
   ],
   "source": [
    "#java -mx5g -cp \"*\" edu.stanford.nlp.pipeline.StanfordCoreNLPServer -timeout 5000000 \n",
    "\n",
    "from pycorenlp import StanfordCoreNLP\n",
    "import pandas as pd\n",
    "import re\n",
    "from clean_data_6 import *\n",
    "\n",
    "text = pd.read_csv('/Users/laurenmccarthy/Documents/Columbia/Fall2016/NLP/FINAL_PROJECT/COMSE6998/Final Project/reddit_data/samsung_top_posts_cleansed.csv')\n",
    "\n",
    "#data clean\n",
    "text = text.drop(text.index[921]).reset_index(drop=True)\n",
    "text = text.drop(text.index[1146]).reset_index(drop=True)\n",
    "text = text.drop(text.index[1242]).reset_index(drop=True)\n",
    "text = text.drop(text.index[2496]).reset_index(drop=True)\n",
    "text = text.drop(text.index[2610]).reset_index(drop=True)\n",
    "text = text.drop(text.index[2642]).reset_index(drop=True)\n",
    "text = text.drop(text.index[2904]).reset_index(drop=True)\n",
    "text = text.drop(text.index[2999]).reset_index(drop=True)\n",
    "text = text.drop(text.index[2999]).reset_index(drop=True)\n",
    "\n",
    "nlp = StanfordCoreNLP('http://localhost:9000')\n",
    "output = pd.DataFrame()\n",
    "N, d = text.shape\n",
    "\n",
    "index_val = []\n",
    "sentence = []\n",
    "sentimentValue = []\n",
    "sentiment = []\n",
    "column = text['comment']\n",
    "\n",
    "for date_index in xrange(2000, 3000):\n",
    "    if date_index % 100 == 0:\n",
    "        print date_index\n",
    "    comment = column[date_index]\n",
    "    comment = clean_data(comment)\n",
    "    comment_clean = re.sub(\"[^a-zA-Z0-9]\", \" \", comment)\n",
    "    comment_clean = re.sub(\" +\", \" \", comment_clean)\n",
    "    res = nlp.annotate(comment_clean,\n",
    "                       properties={\n",
    "                           'annotators': 'sentiment',\n",
    "                           'outputFormat': 'json'\n",
    "                       })\n",
    "    for i,s in enumerate(res[\"sentences\"]):\n",
    "        #print i#, s\n",
    "        index_val.append(date_index)\n",
    "        current_sentence = \" \".join([t[\"word\"] for t in s[\"tokens\"]])\n",
    "        sentence.append(current_sentence)\n",
    "        #print s[\"sentimentValue\"], s[\"sentiment\"], current_sentence\n",
    "        #output\n",
    "        sentimentValue.append(s[\"sentimentValue\"])\n",
    "        sentiment.append(s[\"sentiment\"])\n",
    "\n",
    "output['index'] = index_val\n",
    "output['sentence'] = sentence\n",
    "output['sentimentValue'] = sentimentValue\n",
    "output['sentiment'] = sentiment\n",
    "#save_path = 'output'+str(i)\n",
    "output.to_csv('/Users/laurenmccarthy/Desktop/TEST3.csv')"
   ]
  },
  {
   "cell_type": "code",
   "execution_count": 10,
   "metadata": {
    "collapsed": false
   },
   "outputs": [
    {
     "data": {
      "text/plain": [
       "2999"
      ]
     },
     "execution_count": 10,
     "metadata": {},
     "output_type": "execute_result"
    }
   ],
   "source": [
    "date_index"
   ]
  },
  {
   "cell_type": "code",
   "execution_count": 12,
   "metadata": {
    "collapsed": true
   },
   "outputs": [],
   "source": [
    "comment = column[date_index]"
   ]
  },
  {
   "cell_type": "code",
   "execution_count": 13,
   "metadata": {
    "collapsed": false
   },
   "outputs": [
    {
     "data": {
      "text/plain": [
       "'I love my edge, but I feel like that would be very unwise'"
      ]
     },
     "execution_count": 13,
     "metadata": {},
     "output_type": "execute_result"
    }
   ],
   "source": [
    "comment"
   ]
  },
  {
   "cell_type": "code",
   "execution_count": null,
   "metadata": {
    "collapsed": true
   },
   "outputs": [],
   "source": []
  }
 ],
 "metadata": {
  "anaconda-cloud": {},
  "kernelspec": {
   "display_name": "Python [Root]",
   "language": "python",
   "name": "Python [Root]"
  },
  "language_info": {
   "codemirror_mode": {
    "name": "ipython",
    "version": 2
   },
   "file_extension": ".py",
   "mimetype": "text/x-python",
   "name": "python",
   "nbconvert_exporter": "python",
   "pygments_lexer": "ipython2",
   "version": "2.7.12"
  }
 },
 "nbformat": 4,
 "nbformat_minor": 0
}
