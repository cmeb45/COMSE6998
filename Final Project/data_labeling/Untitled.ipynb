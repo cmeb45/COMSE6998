{
 "cells": [
  {
   "cell_type": "code",
   "execution_count": 1,
   "metadata": {
    "collapsed": false
   },
   "outputs": [],
   "source": [
    "from pycorenlp import StanfordCoreNLP\n",
    "import pandas as pd\n",
    "from clean_data_6 import *"
   ]
  },
  {
   "cell_type": "code",
   "execution_count": 2,
   "metadata": {
    "collapsed": true
   },
   "outputs": [],
   "source": [
    "text = pd.read_csv('/Users/laurenmccarthy/Documents/Columbia/Fall2016/NLP/FINAL_PROJECT/COMSE6998/Final Project/reddit_data/samsung_top_posts_cleansed.csv')"
   ]
  },
  {
   "cell_type": "code",
   "execution_count": 3,
   "metadata": {
    "collapsed": false
   },
   "outputs": [],
   "source": [
    "#data clean\n",
    "text = text.drop(text.index[921]).reset_index(drop=True)\n",
    "text = text.drop(text.index[1146]).reset_index(drop=True)\n",
    "text = text.drop(text.index[1242]).reset_index(drop=True)\n",
    "text = text.drop(text.index[2496]).reset_index(drop=True)\n",
    "text = text.drop(text.index[2610]).reset_index(drop=True)"
   ]
  },
  {
   "cell_type": "code",
   "execution_count": 5,
   "metadata": {
    "collapsed": false
   },
   "outputs": [
    {
     "name": "stdout",
     "output_type": "stream",
     "text": [
      "\n",
      "\n",
      "The specific rebuttal for Corning:  \n",
      "\n",
      "&gt; all glass falls between a Mohs hardness of 5-6, something which Pasansky told me “has been validated several times during the development process here at Corning.” So a Mohs pick of 3 cannot scratch glass with a hardness of 5 or 6. So far so busted.\n",
      "\n",
      "Essentially, any glass is at 5-6, and the Mohs pick was a 3. Corning is using this as a basis to state that what we see in the video is material transfer of the pick onto the glass. The original video, he does attempt to clean it without success. \n",
      "\n",
      "I think that unless someone else does a similar test, or JerryRigsEverything follows up with a significant cleaning effort, we won't really know. I suspect that the new Gorilla Glass traded scratching for material transfer. If it's impossible or nearly impossible to get this transferred material off of the glass (ever try to clean sap off a painted car?), then it will amount to the same thing in the public's mind.\n",
      "\n",
      "But, if someone can show a way to clean these \"transfers\", than opinion shifts back in favor of Corning.\n"
     ]
    }
   ],
   "source": [
    "column = text['comment']\n",
    "column = clean_data(column)\n",
    "print column[2610]"
   ]
  },
  {
   "cell_type": "code",
   "execution_count": 41,
   "metadata": {
    "collapsed": false
   },
   "outputs": [
    {
     "name": "stdout",
     "output_type": "stream",
     "text": [
      "Aesthetic\n"
     ]
    }
   ],
   "source": [
    "text_str = 'A e s t h e t i c'\n",
    "if text_str == text_str:\n",
    "    text_str = text_str.replace(\" \", \"\")\n",
    "print text_str"
   ]
  },
  {
   "cell_type": "code",
   "execution_count": 18,
   "metadata": {
    "collapsed": false
   },
   "outputs": [],
   "source": []
  },
  {
   "cell_type": "code",
   "execution_count": 3,
   "metadata": {
    "collapsed": false
   },
   "outputs": [
    {
     "ename": "NameError",
     "evalue": "name 'text' is not defined",
     "output_type": "error",
     "traceback": [
      "\u001b[0;31m---------------------------------------------------------------------------\u001b[0m",
      "\u001b[0;31mNameError\u001b[0m                                 Traceback (most recent call last)",
      "\u001b[0;32m<ipython-input-3-2b5c4f12e37b>\u001b[0m in \u001b[0;36m<module>\u001b[0;34m()\u001b[0m\n\u001b[0;32m----> 1\u001b[0;31m \u001b[0mcolumn\u001b[0m \u001b[0;34m=\u001b[0m \u001b[0mtext\u001b[0m\u001b[0;34m[\u001b[0m\u001b[0;34m'comment'\u001b[0m\u001b[0;34m]\u001b[0m\u001b[0;34m\u001b[0m\u001b[0m\n\u001b[0m\u001b[1;32m      2\u001b[0m \u001b[0mfirst\u001b[0m \u001b[0;34m=\u001b[0m \u001b[0mcolumn\u001b[0m\u001b[0;34m[\u001b[0m\u001b[0;36m0\u001b[0m\u001b[0;34m]\u001b[0m\u001b[0;34m\u001b[0m\u001b[0m\n\u001b[1;32m      3\u001b[0m \u001b[0;32mprint\u001b[0m \u001b[0mfirst\u001b[0m\u001b[0;34m\u001b[0m\u001b[0m\n\u001b[1;32m      4\u001b[0m res = nlp.annotate(first,\n\u001b[1;32m      5\u001b[0m                        properties={\n",
      "\u001b[0;31mNameError\u001b[0m: name 'text' is not defined"
     ]
    }
   ],
   "source": [
    "column = text['comment']\n",
    "first = column[0]\n",
    "print first\n",
    "res = nlp.annotate(first,\n",
    "                       properties={\n",
    "                           'annotators': 'sentiment',\n",
    "                           'outputFormat': 'json'\n",
    "                       })\n",
    "#print res"
   ]
  },
  {
   "cell_type": "code",
   "execution_count": 4,
   "metadata": {
    "collapsed": false
   },
   "outputs": [
    {
     "name": "stdout",
     "output_type": "stream",
     "text": [
      "2600\n"
     ]
    },
    {
     "ename": "UnicodeDecodeError",
     "evalue": "'ascii' codec can't decode byte 0xe2 in position 117: ordinal not in range(128)",
     "output_type": "error",
     "traceback": [
      "\u001b[0;31m---------------------------------------------------------------------------\u001b[0m",
      "\u001b[0;31mUnicodeDecodeError\u001b[0m                        Traceback (most recent call last)",
      "\u001b[0;32m<ipython-input-4-a4527f3d2573>\u001b[0m in \u001b[0;36m<module>\u001b[0;34m()\u001b[0m\n\u001b[1;32m     16\u001b[0m                        properties={\n\u001b[1;32m     17\u001b[0m                            \u001b[0;34m'annotators'\u001b[0m\u001b[0;34m:\u001b[0m \u001b[0;34m'sentiment'\u001b[0m\u001b[0;34m,\u001b[0m\u001b[0;34m\u001b[0m\u001b[0m\n\u001b[0;32m---> 18\u001b[0;31m                            \u001b[0;34m'outputFormat'\u001b[0m\u001b[0;34m:\u001b[0m \u001b[0;34m'json'\u001b[0m\u001b[0;34m\u001b[0m\u001b[0m\n\u001b[0m\u001b[1;32m     19\u001b[0m                        })\n\u001b[1;32m     20\u001b[0m     \u001b[0;32mfor\u001b[0m \u001b[0mi\u001b[0m\u001b[0;34m,\u001b[0m\u001b[0ms\u001b[0m \u001b[0;32min\u001b[0m \u001b[0menumerate\u001b[0m\u001b[0;34m(\u001b[0m\u001b[0mres\u001b[0m\u001b[0;34m[\u001b[0m\u001b[0;34m\"sentences\"\u001b[0m\u001b[0;34m]\u001b[0m\u001b[0;34m)\u001b[0m\u001b[0;34m:\u001b[0m\u001b[0;34m\u001b[0m\u001b[0m\n",
      "\u001b[0;32m/Users/laurenmccarthy/anaconda2/lib/python2.7/site-packages/pycorenlp/corenlp.pyc\u001b[0m in \u001b[0;36mannotate\u001b[0;34m(self, text, properties)\u001b[0m\n\u001b[1;32m     23\u001b[0m             '$ java -mx4g -cp \"*\" edu.stanford.nlp.pipeline.StanfordCoreNLPServer')\n\u001b[1;32m     24\u001b[0m \u001b[0;34m\u001b[0m\u001b[0m\n\u001b[0;32m---> 25\u001b[0;31m         \u001b[0mdata\u001b[0m \u001b[0;34m=\u001b[0m \u001b[0mtext\u001b[0m\u001b[0;34m.\u001b[0m\u001b[0mencode\u001b[0m\u001b[0;34m(\u001b[0m\u001b[0;34m)\u001b[0m\u001b[0;34m\u001b[0m\u001b[0m\n\u001b[0m\u001b[1;32m     26\u001b[0m         r = requests.post(\n\u001b[1;32m     27\u001b[0m             self.server_url, params={\n",
      "\u001b[0;31mUnicodeDecodeError\u001b[0m: 'ascii' codec can't decode byte 0xe2 in position 117: ordinal not in range(128)"
     ]
    }
   ],
   "source": [
    "nlp = StanfordCoreNLP('http://localhost:9000')\n",
    "output = pd.DataFrame()\n",
    "N, d = text.shape\n",
    "index_val = []\n",
    "sentence = []\n",
    "sentimentValue = []\n",
    "sentiment = []\n",
    "column = text['comment']\n",
    "\n",
    "for date_index in xrange(2600, N):\n",
    "    if date_index % 100 == 0:\n",
    "        print date_index\n",
    "    comment = column[date_index]\n",
    "    comment_clean = clean_data(comment)\n",
    "    res = nlp.annotate(comment_clean,\n",
    "                       properties={\n",
    "                           'annotators': 'sentiment',\n",
    "                           'outputFormat': 'json'\n",
    "                       })\n",
    "    for i,s in enumerate(res[\"sentences\"]):\n",
    "        #print i#, s\n",
    "        index_val.append(date_index)\n",
    "        current_sentence = \" \".join([t[\"word\"] for t in s[\"tokens\"]])\n",
    "        sentence.append(current_sentence)\n",
    "        #print s[\"sentimentValue\"], s[\"sentiment\"], current_sentence\n",
    "        #output\n",
    "        sentimentValue.append(s[\"sentimentValue\"])\n",
    "        sentiment.append(s[\"sentiment\"])\n",
    "\n",
    "output['index'] = index_val\n",
    "output['sentence'] = sentence\n",
    "output['sentimentValue'] = sentimentValue\n",
    "output['sentiment'] = sentiment\n",
    "#save_path = 'output'+str(i)\n",
    "#output.to_csv('/Users/laurenmccarthy/Desktop/outputfiles/'+save_path)"
   ]
  },
  {
   "cell_type": "code",
   "execution_count": 5,
   "metadata": {
    "collapsed": false
   },
   "outputs": [
    {
     "name": "stdout",
     "output_type": "stream",
     "text": [
      "index 2610 sentence \n",
      "\n",
      "The specific rebuttal for Corning:  \n",
      "\n",
      "&gt; all glass falls between a Mohs hardness of 5-6, something which Pasansky told me “has been validated several times during the development process here at Corning.” So a Mohs pick of 3 cannot scratch glass with a hardness of 5 or 6. So far so busted.\n",
      "\n",
      "Essentially, any glass is at 5-6, and the Mohs pick was a 3. Corning is using this as a basis to state that what we see in the video is material transfer of the pick onto the glass. The original video, he does attempt to clean it without success. \n",
      "\n",
      "I think that unless someone else does a similar test, or JerryRigsEverything follows up with a significant cleaning effort, we won't really know. I suspect that the new Gorilla Glass traded scratching for material transfer. If it's impossible or nearly impossible to get this transferred material off of the glass (ever try to clean sap off a painted car?), then it will amount to the same thing in the public's mind.\n",
      "\n",
      "But, if someone can show a way to clean these \"transfers\", than opinion shifts back in favor of Corning.\n"
     ]
    }
   ],
   "source": [
    "#print date_index\n",
    "print 'index', date_index, 'sentence', column[date_index]"
   ]
  },
  {
   "cell_type": "code",
   "execution_count": 6,
   "metadata": {
    "collapsed": false
   },
   "outputs": [
    {
     "data": {
      "text/plain": [
       "'me too, one month and haven\\xc2\\xb4t been able to use my phone properly...'"
      ]
     },
     "execution_count": 6,
     "metadata": {},
     "output_type": "execute_result"
    }
   ],
   "source": []
  },
  {
   "cell_type": "code",
   "execution_count": 75,
   "metadata": {
    "collapsed": false
   },
   "outputs": [
    {
     "ename": "NameError",
     "evalue": "global name 'text' is not defined",
     "output_type": "error",
     "traceback": [
      "\u001b[0;31m---------------------------------------------------------------------------\u001b[0m",
      "\u001b[0;31mNameError\u001b[0m                                 Traceback (most recent call last)",
      "\u001b[0;32m<ipython-input-75-f4836b7156ae>\u001b[0m in \u001b[0;36m<module>\u001b[0;34m()\u001b[0m\n\u001b[1;32m      1\u001b[0m \u001b[0mcolumn\u001b[0m \u001b[0;34m=\u001b[0m \u001b[0mtext\u001b[0m\u001b[0;34m[\u001b[0m\u001b[0;34m'comment'\u001b[0m\u001b[0;34m]\u001b[0m\u001b[0;34m\u001b[0m\u001b[0m\n\u001b[1;32m      2\u001b[0m \u001b[0mcomment\u001b[0m \u001b[0;34m=\u001b[0m \u001b[0mcolumn\u001b[0m\u001b[0;34m[\u001b[0m\u001b[0;36m284\u001b[0m\u001b[0;34m]\u001b[0m\u001b[0;34m\u001b[0m\u001b[0m\n\u001b[0;32m----> 3\u001b[0;31m \u001b[0mcomment_clean\u001b[0m \u001b[0;34m=\u001b[0m \u001b[0mclean_data\u001b[0m\u001b[0;34m(\u001b[0m\u001b[0mcomment\u001b[0m\u001b[0;34m)\u001b[0m\u001b[0;34m\u001b[0m\u001b[0m\n\u001b[0m\u001b[1;32m      4\u001b[0m \u001b[0;32mprint\u001b[0m \u001b[0mcomment\u001b[0m\u001b[0;34m,\u001b[0m \u001b[0mcomment_clean\u001b[0m\u001b[0;34m\u001b[0m\u001b[0m\n",
      "\u001b[0;32m/Users/laurenmccarthy/Documents/Columbia/Fall2016/NLP/FINAL_PROJECT/COMSE6998/Final Project/data_labeling/clean_data_4.py\u001b[0m in \u001b[0;36mclean_data\u001b[0;34m(text_str)\u001b[0m\n\u001b[1;32m      1\u001b[0m \u001b[0;32mdef\u001b[0m \u001b[0mclean_data\u001b[0m\u001b[0;34m(\u001b[0m\u001b[0mtext_str\u001b[0m\u001b[0;34m)\u001b[0m\u001b[0;34m:\u001b[0m\u001b[0;34m\u001b[0m\u001b[0m\n\u001b[1;32m      2\u001b[0m         \u001b[0;31m#text_str = \" \".join(text_list)\u001b[0m\u001b[0;34m\u001b[0m\u001b[0;34m\u001b[0m\u001b[0m\n\u001b[0;32m----> 3\u001b[0;31m         \u001b[0mtext\u001b[0m\u001b[0;34m.\u001b[0m\u001b[0mstr\u001b[0m \u001b[0;34m=\u001b[0m \u001b[0mtext_str\u001b[0m\u001b[0;34m.\u001b[0m\u001b[0mreplace\u001b[0m\u001b[0;34m(\u001b[0m\u001b[0;34m'\\xe2'\u001b[0m\u001b[0;34m,\u001b[0m \u001b[0;34m''\u001b[0m\u001b[0;34m)\u001b[0m\u001b[0;34m\u001b[0m\u001b[0m\n\u001b[0m\u001b[1;32m      4\u001b[0m         \u001b[0mtext_str\u001b[0m \u001b[0;34m=\u001b[0m \u001b[0mtext_str\u001b[0m\u001b[0;34m.\u001b[0m\u001b[0mreplace\u001b[0m\u001b[0;34m(\u001b[0m\u001b[0;34m'\\n'\u001b[0m\u001b[0;34m,\u001b[0m \u001b[0;34m''\u001b[0m\u001b[0;34m)\u001b[0m\u001b[0;34m\u001b[0m\u001b[0m\n\u001b[1;32m      5\u001b[0m         \u001b[0mtext_str\u001b[0m \u001b[0;34m=\u001b[0m \u001b[0mtext_str\u001b[0m\u001b[0;34m.\u001b[0m\u001b[0mreplace\u001b[0m\u001b[0;34m(\u001b[0m\u001b[0;34m'&'\u001b[0m\u001b[0;34m,\u001b[0m \u001b[0;34m''\u001b[0m\u001b[0;34m)\u001b[0m\u001b[0;34m\u001b[0m\u001b[0m\n",
      "\u001b[0;31mNameError\u001b[0m: global name 'text' is not defined"
     ]
    }
   ],
   "source": [
    "column = text['comment']\n",
    "comment = column[284]\n",
    "comment_clean = clean_data(comment)\n",
    "print comment, comment_clean"
   ]
  },
  {
   "cell_type": "code",
   "execution_count": 33,
   "metadata": {
    "collapsed": false
   },
   "outputs": [
    {
     "name": "stdout",
     "output_type": "stream",
     "text": [
      "       index                                           sentence  \\\n",
      "0          0                                     No reason to .   \n",
      "1          0  Risk of the high voltage wiring getting wet is...   \n",
      "2          0  No more than having a bottle of water next to ...   \n",
      "3          1                                     No reason to .   \n",
      "4          1  Risk of the high voltage wiring getting wet is...   \n",
      "5          1  No more than having a bottle of water next to ...   \n",
      "6          2                                     No reason to .   \n",
      "7          2  Risk of the high voltage wiring getting wet is...   \n",
      "8          2  No more than having a bottle of water next to ...   \n",
      "9          3                                     No reason to .   \n",
      "10         3  Risk of the high voltage wiring getting wet is...   \n",
      "11         3  No more than having a bottle of water next to ...   \n",
      "12         4                                     No reason to .   \n",
      "13         4  Risk of the high voltage wiring getting wet is...   \n",
      "14         4  No more than having a bottle of water next to ...   \n",
      "15         5                                     No reason to .   \n",
      "16         5  Risk of the high voltage wiring getting wet is...   \n",
      "17         5  No more than having a bottle of water next to ...   \n",
      "18         6                                     No reason to .   \n",
      "19         6  Risk of the high voltage wiring getting wet is...   \n",
      "20         6  No more than having a bottle of water next to ...   \n",
      "21         7                                     No reason to .   \n",
      "22         7  Risk of the high voltage wiring getting wet is...   \n",
      "23         7  No more than having a bottle of water next to ...   \n",
      "24         8                                     No reason to .   \n",
      "25         8  Risk of the high voltage wiring getting wet is...   \n",
      "26         8  No more than having a bottle of water next to ...   \n",
      "27         9                                     No reason to .   \n",
      "28         9  Risk of the high voltage wiring getting wet is...   \n",
      "29         9  No more than having a bottle of water next to ...   \n",
      "...      ...                                                ...   \n",
      "13629   4543                                     No reason to .   \n",
      "13630   4543  Risk of the high voltage wiring getting wet is...   \n",
      "13631   4543  No more than having a bottle of water next to ...   \n",
      "13632   4544                                     No reason to .   \n",
      "13633   4544  Risk of the high voltage wiring getting wet is...   \n",
      "13634   4544  No more than having a bottle of water next to ...   \n",
      "13635   4545                                     No reason to .   \n",
      "13636   4545  Risk of the high voltage wiring getting wet is...   \n",
      "13637   4545  No more than having a bottle of water next to ...   \n",
      "13638   4546                                     No reason to .   \n",
      "13639   4546  Risk of the high voltage wiring getting wet is...   \n",
      "13640   4546  No more than having a bottle of water next to ...   \n",
      "13641   4547                                     No reason to .   \n",
      "13642   4547  Risk of the high voltage wiring getting wet is...   \n",
      "13643   4547  No more than having a bottle of water next to ...   \n",
      "13644   4548                                     No reason to .   \n",
      "13645   4548  Risk of the high voltage wiring getting wet is...   \n",
      "13646   4548  No more than having a bottle of water next to ...   \n",
      "13647   4549                                     No reason to .   \n",
      "13648   4549  Risk of the high voltage wiring getting wet is...   \n",
      "13649   4549  No more than having a bottle of water next to ...   \n",
      "13650   4550                                     No reason to .   \n",
      "13651   4550  Risk of the high voltage wiring getting wet is...   \n",
      "13652   4550  No more than having a bottle of water next to ...   \n",
      "13653   4551                                     No reason to .   \n",
      "13654   4551  Risk of the high voltage wiring getting wet is...   \n",
      "13655   4551  No more than having a bottle of water next to ...   \n",
      "13656   4552                                     No reason to .   \n",
      "13657   4552  Risk of the high voltage wiring getting wet is...   \n",
      "13658   4552  No more than having a bottle of water next to ...   \n",
      "\n",
      "      sentimentValue sentiment  \n",
      "0                  2   Neutral  \n",
      "1                  1  Negative  \n",
      "2                  1  Negative  \n",
      "3                  2   Neutral  \n",
      "4                  1  Negative  \n",
      "5                  1  Negative  \n",
      "6                  2   Neutral  \n",
      "7                  1  Negative  \n",
      "8                  1  Negative  \n",
      "9                  2   Neutral  \n",
      "10                 1  Negative  \n",
      "11                 1  Negative  \n",
      "12                 2   Neutral  \n",
      "13                 1  Negative  \n",
      "14                 1  Negative  \n",
      "15                 2   Neutral  \n",
      "16                 1  Negative  \n",
      "17                 1  Negative  \n",
      "18                 2   Neutral  \n",
      "19                 1  Negative  \n",
      "20                 1  Negative  \n",
      "21                 2   Neutral  \n",
      "22                 1  Negative  \n",
      "23                 1  Negative  \n",
      "24                 2   Neutral  \n",
      "25                 1  Negative  \n",
      "26                 1  Negative  \n",
      "27                 2   Neutral  \n",
      "28                 1  Negative  \n",
      "29                 1  Negative  \n",
      "...              ...       ...  \n",
      "13629              2   Neutral  \n",
      "13630              1  Negative  \n",
      "13631              1  Negative  \n",
      "13632              2   Neutral  \n",
      "13633              1  Negative  \n",
      "13634              1  Negative  \n",
      "13635              2   Neutral  \n",
      "13636              1  Negative  \n",
      "13637              1  Negative  \n",
      "13638              2   Neutral  \n",
      "13639              1  Negative  \n",
      "13640              1  Negative  \n",
      "13641              2   Neutral  \n",
      "13642              1  Negative  \n",
      "13643              1  Negative  \n",
      "13644              2   Neutral  \n",
      "13645              1  Negative  \n",
      "13646              1  Negative  \n",
      "13647              2   Neutral  \n",
      "13648              1  Negative  \n",
      "13649              1  Negative  \n",
      "13650              2   Neutral  \n",
      "13651              1  Negative  \n",
      "13652              1  Negative  \n",
      "13653              2   Neutral  \n",
      "13654              1  Negative  \n",
      "13655              1  Negative  \n",
      "13656              2   Neutral  \n",
      "13657              1  Negative  \n",
      "13658              1  Negative  \n",
      "\n",
      "[13659 rows x 4 columns]\n"
     ]
    }
   ],
   "source": [
    "print output"
   ]
  },
  {
   "cell_type": "code",
   "execution_count": null,
   "metadata": {
    "collapsed": true
   },
   "outputs": [],
   "source": []
  },
  {
   "cell_type": "code",
   "execution_count": 17,
   "metadata": {
    "collapsed": false
   },
   "outputs": [
    {
     "ename": "UnicodeDecodeError",
     "evalue": "'ascii' codec can't decode byte 0xf0 in position 0: ordinal not in range(128)",
     "output_type": "error",
     "traceback": [
      "\u001b[0;31m---------------------------------------------------------------------------\u001b[0m",
      "\u001b[0;31mUnicodeDecodeError\u001b[0m                        Traceback (most recent call last)",
      "\u001b[0;32m<ipython-input-17-85f2400e7fa2>\u001b[0m in \u001b[0;36m<module>\u001b[0;34m()\u001b[0m\n\u001b[1;32m      4\u001b[0m                        properties={\n\u001b[1;32m      5\u001b[0m                            \u001b[0;34m'annotators'\u001b[0m\u001b[0;34m:\u001b[0m \u001b[0;34m'sentiment'\u001b[0m\u001b[0;34m,\u001b[0m\u001b[0;34m\u001b[0m\u001b[0m\n\u001b[0;32m----> 6\u001b[0;31m                            \u001b[0;34m'outputFormat'\u001b[0m\u001b[0;34m:\u001b[0m \u001b[0;34m'json'\u001b[0m\u001b[0;34m\u001b[0m\u001b[0m\n\u001b[0m\u001b[1;32m      7\u001b[0m                        })\n\u001b[1;32m      8\u001b[0m \u001b[0mtext\u001b[0m\u001b[0;34m[\u001b[0m\u001b[0;36m0\u001b[0m\u001b[0;34m]\u001b[0m\u001b[0;34m\u001b[0m\u001b[0m\n",
      "\u001b[0;32m/Users/laurenmccarthy/anaconda2/lib/python2.7/site-packages/pycorenlp/corenlp.pyc\u001b[0m in \u001b[0;36mannotate\u001b[0;34m(self, text, properties)\u001b[0m\n\u001b[1;32m     23\u001b[0m             '$ java -mx4g -cp \"*\" edu.stanford.nlp.pipeline.StanfordCoreNLPServer')\n\u001b[1;32m     24\u001b[0m \u001b[0;34m\u001b[0m\u001b[0m\n\u001b[0;32m---> 25\u001b[0;31m         \u001b[0mdata\u001b[0m \u001b[0;34m=\u001b[0m \u001b[0mtext\u001b[0m\u001b[0;34m.\u001b[0m\u001b[0mencode\u001b[0m\u001b[0;34m(\u001b[0m\u001b[0;34m)\u001b[0m\u001b[0;34m\u001b[0m\u001b[0m\n\u001b[0m\u001b[1;32m     26\u001b[0m         r = requests.post(\n\u001b[1;32m     27\u001b[0m             self.server_url, params={\n",
      "\u001b[0;31mUnicodeDecodeError\u001b[0m: 'ascii' codec can't decode byte 0xf0 in position 0: ordinal not in range(128)"
     ]
    }
   ],
   "source": [
    "clean_data_sentiment = pd.DataFrame()\n",
    "for index, row in text.iterrows():\n",
    "    res = nlp.annotate(row['comment'],\n",
    "                       properties={\n",
    "                           'annotators': 'sentiment',\n",
    "                           'outputFormat': 'json'\n",
    "                       })\n",
    "text[0]"
   ]
  },
  {
   "cell_type": "code",
   "execution_count": null,
   "metadata": {
    "collapsed": true
   },
   "outputs": [],
   "source": []
  }
 ],
 "metadata": {
  "anaconda-cloud": {},
  "kernelspec": {
   "display_name": "Python [Root]",
   "language": "python",
   "name": "Python [Root]"
  },
  "language_info": {
   "codemirror_mode": {
    "name": "ipython",
    "version": 2
   },
   "file_extension": ".py",
   "mimetype": "text/x-python",
   "name": "python",
   "nbconvert_exporter": "python",
   "pygments_lexer": "ipython2",
   "version": "2.7.12"
  }
 },
 "nbformat": 4,
 "nbformat_minor": 0
}
